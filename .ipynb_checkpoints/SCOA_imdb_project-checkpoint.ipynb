{
 "cells": [
  {
   "cell_type": "code",
   "execution_count": 1,
   "metadata": {},
   "outputs": [
    {
     "name": "stderr",
     "output_type": "stream",
     "text": [
      "Using TensorFlow backend.\n"
     ]
    }
   ],
   "source": [
    "import matplotlib\n",
    "import matplotlib.pyplot as plt\n",
    "\n",
    "import numpy as np\n",
    "from keras.utils import to_categorical\n",
    "from keras import models\n",
    "from keras import layers\n"
   ]
  },
  {
   "cell_type": "code",
   "execution_count": 2,
   "metadata": {},
   "outputs": [],
   "source": [
    "from keras.datasets import imdb\n",
    "(training_data, training_targets), (testing_data, testing_targets) = imdb.load_data(num_words=10000)\n",
    "data = np.concatenate((training_data, testing_data), axis=0)\n",
    "targets = np.concatenate((training_targets, testing_targets), axis=0)"
   ]
  },
  {
   "cell_type": "code",
   "execution_count": 3,
   "metadata": {},
   "outputs": [
    {
     "name": "stdout",
     "output_type": "stream",
     "text": [
      "Categories: [0 1]\n",
      "Number of unique words: 9998\n"
     ]
    }
   ],
   "source": [
    "print(\"Categories:\", np.unique(targets))\n",
    "print(\"Number of unique words:\", len(np.unique(np.hstack(data))))"
   ]
  },
  {
   "cell_type": "code",
   "execution_count": 4,
   "metadata": {},
   "outputs": [
    {
     "name": "stdout",
     "output_type": "stream",
     "text": [
      "Average Review length: 234.75892\n",
      "Standard Deviation: 173.0\n"
     ]
    }
   ],
   "source": [
    "length = [len(i) for i in data]\n",
    "print(\"Average Review length:\", np.mean(length))\n",
    "print(\"Standard Deviation:\", round(np.std(length)))"
   ]
  },
  {
   "cell_type": "code",
   "execution_count": 5,
   "metadata": {},
   "outputs": [
    {
     "name": "stdout",
     "output_type": "stream",
     "text": [
      "Label: 1\n",
      "[1, 14, 22, 16, 43, 530, 973, 1622, 1385, 65, 458, 4468, 66, 3941, 4, 173, 36, 256, 5, 25, 100, 43, 838, 112, 50, 670, 2, 9, 35, 480, 284, 5, 150, 4, 172, 112, 167, 2, 336, 385, 39, 4, 172, 4536, 1111, 17, 546, 38, 13, 447, 4, 192, 50, 16, 6, 147, 2025, 19, 14, 22, 4, 1920, 4613, 469, 4, 22, 71, 87, 12, 16, 43, 530, 38, 76, 15, 13, 1247, 4, 22, 17, 515, 17, 12, 16, 626, 18, 2, 5, 62, 386, 12, 8, 316, 8, 106, 5, 4, 2223, 5244, 16, 480, 66, 3785, 33, 4, 130, 12, 16, 38, 619, 5, 25, 124, 51, 36, 135, 48, 25, 1415, 33, 6, 22, 12, 215, 28, 77, 52, 5, 14, 407, 16, 82, 2, 8, 4, 107, 117, 5952, 15, 256, 4, 2, 7, 3766, 5, 723, 36, 71, 43, 530, 476, 26, 400, 317, 46, 7, 4, 2, 1029, 13, 104, 88, 4, 381, 15, 297, 98, 32, 2071, 56, 26, 141, 6, 194, 7486, 18, 4, 226, 22, 21, 134, 476, 26, 480, 5, 144, 30, 5535, 18, 51, 36, 28, 224, 92, 25, 104, 4, 226, 65, 16, 38, 1334, 88, 12, 16, 283, 5, 16, 4472, 113, 103, 32, 15, 16, 5345, 19, 178, 32]\n"
     ]
    }
   ],
   "source": [
    "print(\"Label:\", targets[0])\n",
    "print(data[0])"
   ]
  },
  {
   "cell_type": "code",
   "execution_count": 6,
   "metadata": {},
   "outputs": [
    {
     "name": "stdout",
     "output_type": "stream",
     "text": [
      "# this film was just brilliant casting location scenery story direction everyone's really suited the part they played and you could just imagine being there robert # is an amazing actor and now the same being director # father came from the same scottish island as myself so i loved the fact there was a real connection with this film the witty remarks throughout the film were great it was just brilliant so much that i bought the film as soon as it was released for # and would recommend it to everyone to watch and the fly fishing was amazing really cried at the end it was so sad and you know what they say if you cry at a film it must have been good and this definitely was also # to the two little boy's that played the # of norman and paul they were just brilliant children are often left out of the # list i think because the stars that play them all grown up are such a big profile for the whole film but these children are amazing and should be praised for what they have done don't you think the whole story was so lovely because it was true and was someone's life after all that was shared with us all\n"
     ]
    }
   ],
   "source": [
    "index = imdb.get_word_index()\n",
    "reverse_index = dict([(value, key) for (key, value) in index.items()]) \n",
    "decoded = \" \".join( [reverse_index.get(i - 3, \"#\") for i in data[0]] )\n",
    "print(decoded) "
   ]
  },
  {
   "cell_type": "code",
   "execution_count": 7,
   "metadata": {},
   "outputs": [],
   "source": [
    "def vectorize(sequences, dimension = 10000):\n",
    "    results = np.zeros((len(sequences), dimension))\n",
    "    for i, sequence in enumerate(sequences):\n",
    "        results[i, sequence] = 1\n",
    "    return results\n",
    " \n",
    "data = vectorize(data)\n",
    "targets = np.array(targets).astype(\"float32\")"
   ]
  },
  {
   "cell_type": "code",
   "execution_count": 8,
   "metadata": {},
   "outputs": [
    {
     "name": "stdout",
     "output_type": "stream",
     "text": [
      "Model: \"sequential_1\"\n",
      "_________________________________________________________________\n",
      "Layer (type)                 Output Shape              Param #   \n",
      "=================================================================\n",
      "dense_1 (Dense)              (None, 50)                500050    \n",
      "_________________________________________________________________\n",
      "dropout_1 (Dropout)          (None, 50)                0         \n",
      "_________________________________________________________________\n",
      "dense_2 (Dense)              (None, 50)                2550      \n",
      "_________________________________________________________________\n",
      "dropout_2 (Dropout)          (None, 50)                0         \n",
      "_________________________________________________________________\n",
      "dense_3 (Dense)              (None, 50)                2550      \n",
      "_________________________________________________________________\n",
      "dense_4 (Dense)              (None, 1)                 51        \n",
      "=================================================================\n",
      "Total params: 505,201\n",
      "Trainable params: 505,201\n",
      "Non-trainable params: 0\n",
      "_________________________________________________________________\n"
     ]
    }
   ],
   "source": [
    "test_x = data[:10000]\n",
    "test_y = targets[:10000]\n",
    "train_x = data[10000:]\n",
    "train_y = targets[10000:]\n",
    "model = models.Sequential()\n",
    "# Input - Layer\n",
    "model.add(layers.Dense(50, activation = \"relu\", input_shape=(10000, )))\n",
    "# Hidden - Layers\n",
    "model.add(layers.Dropout(0.3, noise_shape=None, seed=None))\n",
    "model.add(layers.Dense(50, activation = \"relu\"))\n",
    "model.add(layers.Dropout(0.2, noise_shape=None, seed=None))\n",
    "model.add(layers.Dense(50, activation = \"relu\"))\n",
    "# Output- Layer\n",
    "model.add(layers.Dense(1, activation = \"sigmoid\"))\n",
    "model.summary()"
   ]
  },
  {
   "cell_type": "code",
   "execution_count": 10,
   "metadata": {},
   "outputs": [
    {
     "name": "stdout",
     "output_type": "stream",
     "text": [
      "Train on 40000 samples, validate on 10000 samples\n",
      "Epoch 1/5\n",
      "40000/40000 [==============================] - 4s 111us/step - loss: 0.1659 - accuracy: 0.9384 - val_loss: 0.2866 - val_accuracy: 0.8920\n",
      "Epoch 2/5\n",
      "40000/40000 [==============================] - 4s 102us/step - loss: 0.1121 - accuracy: 0.9610 - val_loss: 0.3406 - val_accuracy: 0.8863\n",
      "Epoch 3/5\n",
      "40000/40000 [==============================] - 4s 102us/step - loss: 0.0784 - accuracy: 0.9737 - val_loss: 0.4157 - val_accuracy: 0.8847\n",
      "Epoch 4/5\n",
      "40000/40000 [==============================] - 4s 104us/step - loss: 0.0522 - accuracy: 0.9830 - val_loss: 0.5078 - val_accuracy: 0.8855\n",
      "Epoch 5/5\n",
      "40000/40000 [==============================] - 4s 101us/step - loss: 0.0434 - accuracy: 0.9858 - val_loss: 0.5261 - val_accuracy: 0.8822\n"
     ]
    }
   ],
   "source": [
    "model.compile(\n",
    " optimizer = \"adam\",\n",
    " loss = \"binary_crossentropy\",\n",
    " metrics = [\"accuracy\"]\n",
    ")\n",
    "results = model.fit(\n",
    " train_x, train_y,\n",
    " epochs= 5,\n",
    " batch_size = 500,\n",
    " validation_data = (test_x, test_y)\n",
    ")"
   ]
  },
  {
   "cell_type": "code",
   "execution_count": 11,
   "metadata": {},
   "outputs": [
    {
     "name": "stdout",
     "output_type": "stream",
     "text": [
      "Test-Accuracy: 0.8861400127410889\n"
     ]
    }
   ],
   "source": [
    "print(\"Test-Accuracy:\", np.mean(results.history[\"val_accuracy\"]))"
   ]
  },
  {
   "cell_type": "code",
   "execution_count": 12,
   "metadata": {},
   "outputs": [],
   "source": [
    "import string\n",
    "import numpy as np\n",
    "from keras import models\n",
    "from keras import layers\n",
    "from keras.datasets import imdb\n",
    "from nltk import word_tokenize\n",
    "import string\n",
    "TOP_WORDS = 10000\n",
    "\n",
    "def Preparing_string(text_string, dimension = TOP_WORDS):\n",
    "    text_string = text_string.lower()\n",
    "    table = str.maketrans(dict.fromkeys(string.punctuation))\n",
    "    text_string = text_string.translate(table)\n",
    "\n",
    "    word2index = imdb.get_word_index()\n",
    "    test=[]\n",
    "    for word in word_tokenize(text_string):\n",
    "        test.append(word2index[word])\n",
    "\n",
    "    results = np.zeros(dimension)\n",
    "    for _ , sequence in enumerate(test):\n",
    "        if sequence < dimension:\n",
    "            results[sequence] = 1\n",
    "\n",
    "    print(\"\\nOriginal string:\", text_string,\"\\n\")\n",
    "    print(\"\\nIndex conversion:\", test,\"\\n\")\n",
    "    results = np.reshape(results,(1, TOP_WORDS))\n",
    "    print(\"\\nConvert to vectors:\", results,\"\\n\")\n",
    "    return results\n"
   ]
  },
  {
   "cell_type": "code",
   "execution_count": 16,
   "metadata": {},
   "outputs": [
    {
     "name": "stdout",
     "output_type": "stream",
     "text": [
      "predict: [[0.5752113]]\n",
      "predict_classes: [[1]]\n",
      "------1 is Good-------\n",
      "\n"
     ]
    }
   ],
   "source": [
    "review = \"First off, this is NOT a war film. It is a movie about the bond of men in war. It is by far the best movie I've seen in a very, very long time. I had high expectations and was not disappointed. At first I was eager to see the one shot idea Sam Mendes went into this with but, after awhile, I stopped paying attention to that. While everything about the movie was well done I was so caught up in the two central characters that nothing else mattered. I will watch this again and again.\"\n",
    "print(\"predict:\",model.predict(data_string))\n",
    "print(\"predict_classes:\",model.predict_classes(data_string))\n",
    "print(\"------1 is Good-------\\n\")\n"
   ]
  },
  {
   "cell_type": "code",
   "execution_count": 17,
   "metadata": {},
   "outputs": [
    {
     "name": "stdout",
     "output_type": "stream",
     "text": [
      "\n",
      "Original string: i dont feel like i know the characters at all i have no idea why the two soldiers were friends or what they had been through together the cinematography tried so hard to make this an emotional shocking movie that it had the opposite effect war scenes with gratuitous up close views of corpses and body parts that dont add anything to the story got old quick \n",
      "\n",
      "\n",
      "Index conversion: [10, 5363, 232, 37, 10, 121, 1, 102, 30, 29, 10, 25, 54, 323, 135, 1, 104, 1337, 68, 366, 39, 48, 33, 66, 74, 140, 292, 1, 624, 802, 35, 251, 5, 94, 11, 32, 918, 1618, 17, 12, 9, 66, 1, 1958, 959, 322, 136, 16, 2169, 53, 488, 2689, 4, 5509, 2, 645, 528, 12, 5363, 760, 230, 5, 1, 62, 185, 151, 1602] \n",
      "\n",
      "\n",
      "Convert to vectors: [[0. 1. 1. ... 0. 0. 0.]] \n",
      "\n",
      "predict: [[0.55289495]]\n",
      "predict_classes: [[1]]\n",
      "------0 is Bad-------\n",
      "\n"
     ]
    }
   ],
   "source": [
    "data_string = Preparing_string(\"I don't feel like I know the characters at all. I have no idea why the two soldiers were friends or what they had been through together. The cinematography tried so hard to make this an emotional shocking movie that it had the opposite effect. War scenes with gratuitous up close views of corpses and body parts that don't add anything to the story got old quick.\")\n",
    "print(\"predict:\",model.predict(data_string))\n",
    "print(\"predict_classes:\",model.predict_classes(data_string))\n",
    "print(\"------0 is Bad-------\\n\")"
   ]
  },
  {
   "cell_type": "code",
   "execution_count": 18,
   "metadata": {},
   "outputs": [
    {
     "name": "stdout",
     "output_type": "stream",
     "text": [
      "\n",
      "Original string: one of the best films ive seen in a long while worth seeing on a big screen cinematography is outstanding the one shot process really makes you feel as though you are there the two leading actors really grasped the concept that human contact can be so strong especially in such awful situations as war insightful moving and an overall amazing watch \n",
      "\n",
      "\n",
      "Index conversion: [28, 4, 1, 115, 105, 18778, 107, 8, 3, 193, 134, 287, 316, 20, 3, 191, 265, 624, 6, 1336, 1, 28, 321, 1770, 63, 163, 22, 232, 14, 148, 22, 23, 47, 1, 104, 968, 153, 63, 17907, 1, 1117, 12, 403, 3151, 67, 27, 35, 562, 259, 8, 138, 370, 1183, 14, 322, 5941, 725, 2, 32, 441, 477, 103] \n",
      "\n",
      "\n",
      "Convert to vectors: [[0. 1. 1. ... 0. 0. 0.]] \n",
      "\n",
      "predict: [[0.99846905]]\n",
      "predict_classes: [[1]]\n",
      "------1 is Good-------\n",
      "\n"
     ]
    }
   ],
   "source": [
    "data_string = Preparing_string(\"One of the best films I've seen in a long while. Worth seeing on a big screen. Cinematography is outstanding, the one shot process really makes you feel as though you are there. The two leading actors really grasped the concept that human contact can be so strong, especially in such awful situations as war. Insightful, moving and an overall amazing watch.\")\n",
    "print(\"predict:\",model.predict(data_string))\n",
    "print(\"predict_classes:\",model.predict_classes(data_string))\n",
    "print(\"------1 is Good-------\\n\")\n"
   ]
  },
  {
   "cell_type": "code",
   "execution_count": 19,
   "metadata": {},
   "outputs": [
    {
     "name": "stdout",
     "output_type": "stream",
     "text": [
      "\n",
      "Original string: i felt dirty i felt tired i felt hungry i felt a will to succeed and i felt sadness when i was watching the movie it felt like i was also fighting to reach colonel mackenzie for two hours several hours later after my emotions are still outside my body fantastic photo and music good casting of staff the movie is just perfect \n",
      "\n",
      "\n",
      "Index conversion: [10, 418, 1638, 10, 418, 1455, 10, 418, 5393, 10, 418, 3, 77, 5, 3112, 2, 10, 418, 3904, 51, 10, 13, 146, 1, 17, 9, 418, 37, 10, 13, 79, 994, 5, 2098, 4405, 24782, 15, 104, 631, 447, 631, 300, 100, 58, 1435, 23, 128, 1002, 58, 645, 774, 4880, 2, 225, 49, 970, 4, 4002, 1, 17, 6, 40, 401] \n",
      "\n",
      "\n",
      "Convert to vectors: [[0. 1. 1. ... 0. 0. 0.]] \n",
      "\n",
      "predict: [[0.44671]]\n",
      "predict_classes: [[0]]\n",
      "------1 is Good-------\n",
      "\n",
      "\n",
      "Original string: predictable and horrendous the acting was terrible and the story was common and nonsense the only exciting part about the movie was the very end when finally people were dying and it represented ww1 i highly doubt he met a strange woman with an abandoned child and i highly doubt any of this even happened this movie was saving private ryan but boring and predictable \n",
      "\n",
      "\n",
      "Index conversion: [724, 2, 3385, 1, 113, 13, 391, 2, 1, 62, 13, 1138, 2, 1832, 1, 61, 1124, 170, 41, 1, 17, 13, 1, 52, 127, 51, 414, 81, 68, 1718, 2, 9, 4356, 20845, 10, 542, 821, 26, 1833, 3, 677, 252, 16, 32, 2625, 503, 2, 10, 542, 821, 98, 4, 11, 57, 572, 11, 17, 13, 1904, 1952, 2378, 18, 354, 2, 724] \n",
      "\n",
      "\n",
      "Convert to vectors: [[0. 1. 1. ... 0. 0. 0.]] \n",
      "\n",
      "predict: [[0.09165159]]\n",
      "predict_classes: [[0]]\n",
      "------0 is Bad-------\n",
      "\n"
     ]
    }
   ],
   "source": [
    "data_string = Preparing_string(\"I felt dirty, I felt tired, I felt hungry, I felt a will to succeed and I felt sadness when I was watching the movie. It felt like I was also fighting to reach Colonel MacKenzie for two hours. Several hours later after my emotions are still outside my body. Fantastic photo and music. Good casting of staff. The movie is just perfect!\")\n",
    "print(\"predict:\",model.predict(data_string))\n",
    "print(\"predict_classes:\",model.predict_classes(data_string))\n",
    "print(\"------1 is Good-------\\n\")\n",
    "\n",
    "data_string = Preparing_string(\"Predictable and horrendous. The acting was terrible and the story was common and nonsense. The only exciting part about the movie was the very end when finally people were dying and it represented WW1. I highly doubt he met a strange woman with an abandoned child and I highly doubt any of this even happened. This movie was Saving Private Ryan, but boring and predictable.\")\n",
    "print(\"predict:\",model.predict(data_string))\n",
    "print(\"predict_classes:\",model.predict_classes(data_string))\n",
    "print(\"------0 is Bad-------\\n\")"
   ]
  },
  {
   "cell_type": "code",
   "execution_count": null,
   "metadata": {},
   "outputs": [],
   "source": []
  }
 ],
 "metadata": {
  "kernelspec": {
   "display_name": "Python 3",
   "language": "python",
   "name": "python3"
  },
  "language_info": {
   "codemirror_mode": {
    "name": "ipython",
    "version": 3
   },
   "file_extension": ".py",
   "mimetype": "text/x-python",
   "name": "python",
   "nbconvert_exporter": "python",
   "pygments_lexer": "ipython3",
   "version": "3.7.6"
  }
 },
 "nbformat": 4,
 "nbformat_minor": 4
}
